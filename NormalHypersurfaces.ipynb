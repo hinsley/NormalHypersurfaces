{
 "cells": [
  {
   "cell_type": "code",
   "execution_count": 33,
   "id": "dd6e862b",
   "metadata": {
    "scrolled": true
   },
   "outputs": [],
   "source": [
    "using ForwardDiff\n",
    "using LinearAlgebra\n",
    "using WGLMakie"
   ]
  },
  {
   "cell_type": "code",
   "execution_count": 34,
   "id": "912fcde6",
   "metadata": {},
   "outputs": [
    {
     "data": {
      "text/plain": [
       "diffT (generic function with 1 method)"
      ]
     },
     "execution_count": 34,
     "metadata": {},
     "output_type": "execute_result"
    }
   ],
   "source": [
    "function rdot(r)\n",
    "    return [0 1; -1 0] * (r - [2; 2])\n",
    "end\n",
    "\n",
    "# Obtains the unit tangent vector to the\n",
    "# flow-normal curve at a given point in phase space.\n",
    "# R^n -> R^n.\n",
    "function T(r)\n",
    "    return normalize([0 1; -1 0] * rdot(r))\n",
    "end\n",
    "\n",
    "# Obtains the `n`th derivative of the unit tangent\n",
    "# vector to the flow-normal curve in the direction\n",
    "# of the unit normal vector at the origin.\n",
    "function diffT(n)\n",
    "    Tn = T\n",
    "    for _ in 1:n\n",
    "        Tn = r -> ForwardDiff.jacobian(Tn, [0.; 0.]) * r\n",
    "    end\n",
    "    return Tn(T([0.; 0.]))\n",
    "end"
   ]
  },
  {
   "cell_type": "code",
   "execution_count": 36,
   "id": "55075c02",
   "metadata": {},
   "outputs": [
    {
     "ename": "LoadError",
     "evalue": "StackOverflowError:",
     "output_type": "error",
     "traceback": [
      "StackOverflowError:",
      "",
      "Stacktrace:",
      "     [1] (::var\"#21#22\")(r::Vector{ForwardDiff.Dual{ForwardDiff.Tag{var\"#21#22\", Float64}, Float64, 2}})",
      "       @ Main ./In[34]:18",
      "     [2] vector_mode_dual_eval!",
      "       @ ~/.julia/packages/ForwardDiff/pDtsf/src/apiutils.jl:37 [inlined]",
      "     [3] vector_mode_jacobian(f::var\"#21#22\", x::Vector{Float64}, cfg::ForwardDiff.JacobianConfig{ForwardDiff.Tag{var\"#21#22\", Float64}, Float64, 2, Vector{ForwardDiff.Dual{ForwardDiff.Tag{var\"#21#22\", Float64}, Float64, 2}}})",
      "       @ ForwardDiff ~/.julia/packages/ForwardDiff/pDtsf/src/jacobian.jl:148",
      "     [4] jacobian(f::Function, x::Vector{Float64}, cfg::ForwardDiff.JacobianConfig{ForwardDiff.Tag{var\"#21#22\", Float64}, Float64, 2, Vector{ForwardDiff.Dual{ForwardDiff.Tag{var\"#21#22\", Float64}, Float64, 2}}}, ::Val{true})",
      "       @ ForwardDiff ~/.julia/packages/ForwardDiff/pDtsf/src/jacobian.jl:21",
      "     [5] jacobian(f::Function, x::Vector{Float64}, cfg::ForwardDiff.JacobianConfig{ForwardDiff.Tag{var\"#21#22\", Float64}, Float64, 2, Vector{ForwardDiff.Dual{ForwardDiff.Tag{var\"#21#22\", Float64}, Float64, 2}}}) (repeats 2 times)",
      "       @ ForwardDiff ~/.julia/packages/ForwardDiff/pDtsf/src/jacobian.jl:19",
      "--- the last 5 lines are repeated 3018 more times ---",
      " [15096] (::var\"#21#22\")(r::Vector{Float64})",
      "       @ Main ./In[34]:18",
      " [15097] diffT(n::Int64)",
      "       @ Main ./In[34]:20",
      " [15098] top-level scope",
      "       @ In[36]:1",
      " [15099] eval",
      "       @ ./boot.jl:368 [inlined]"
     ]
    }
   ],
   "source": [
    "diffT(1)"
   ]
  },
  {
   "cell_type": "code",
   "execution_count": 230,
   "id": "30c7ab7c",
   "metadata": {},
   "outputs": [
    {
     "data": {
      "text/html": [
       "<div data-jscall-id=\"1331\"><script data-jscall-id=\"1332\" type=\"text/javascript\">\n",
       "    function register_resize_handler(remote_origin) {\n",
       "        function resize_callback(event) {\n",
       "            if (event.origin !== remote_origin) {\n",
       "                return;\n",
       "            }\n",
       "            const uuid = event.data[0];\n",
       "            const width = event.data[1];\n",
       "            const height = event.data[2];\n",
       "            const iframe = document.getElementById('b654594b-9770-4334-881d-afd5691a2026');\n",
       "            if (iframe) {\n",
       "                iframe.style.width = width + \"px\";\n",
       "                iframe.style.height = height + \"px\";\n",
       "            }\n",
       "        }\n",
       "        if (window.addEventListener) {\n",
       "            window.addEventListener(\"message\", resize_callback, false);\n",
       "        } else if (window.attachEvent) {\n",
       "            window.attachEvent(\"onmessage\", resize_callback);\n",
       "        }\n",
       "    }\n",
       "    register_resize_handler('http://127.0.0.1:9284')\n",
       "\n",
       "</script><iframe scrolling=\"no\" id=\"b654594b-9770-4334-881d-afd5691a2026\" data-jscall-id=\"1330\" src=\"http://127.0.0.1:9284/b654594b-9770-4334-881d-afd5691a2026\" style=\"position: relative; display: block; width: 100%; height: 100%; padding: 0; overflow: hidden; border: none\"></iframe></div>\n"
      ]
     },
     "metadata": {},
     "output_type": "display_data"
    }
   ],
   "source": [
    "f = Figure()\n",
    "ax = Axis(f[1, 1])\n",
    "\n",
    "rs = Iterators.product(-10:1:10, -10:1:10) |> collect\n",
    "rdots = map(r -> rdot([r[1]; r[2]]), rs)\n",
    "xs = vec(map(r -> r[1], rs))\n",
    "ys = vec(map(r -> r[2], rs))\n",
    "us = vec(map(rdot -> rdot[1], rdots))\n",
    "vs = vec(map(rdot -> rdot[2], rdots))\n",
    "\n",
    "arrows!(ax, xs, ys, us, vs, lengthscale = 0.1)\n",
    "lines!(ax, [cos(t) + 2 for t in 0:0.01:2pi], [sin(t) + 2 for t in 0:0.01:2pi])\n",
    "\n",
    "display(f)"
   ]
  },
  {
   "cell_type": "code",
   "execution_count": null,
   "id": "2f8cb243",
   "metadata": {},
   "outputs": [],
   "source": []
  }
 ],
 "metadata": {
  "kernelspec": {
   "display_name": "Julia 1.8.0",
   "language": "julia",
   "name": "julia-1.8"
  },
  "language_info": {
   "file_extension": ".jl",
   "mimetype": "application/julia",
   "name": "julia",
   "version": "1.8.0"
  }
 },
 "nbformat": 4,
 "nbformat_minor": 5
}
