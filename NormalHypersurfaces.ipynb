{
 "cells": [
  {
   "cell_type": "code",
   "execution_count": 5,
   "id": "dd6e862b",
   "metadata": {
    "scrolled": true
   },
   "outputs": [],
   "source": [
    "using Symbolics\n",
    "using LinearAlgebra\n",
    "using WGLMakie\n",
    "using Zygote"
   ]
  },
  {
   "cell_type": "code",
   "execution_count": 57,
   "id": "912fcde6",
   "metadata": {},
   "outputs": [
    {
     "data": {
      "text/plain": [
       "rdot (generic function with 1 method)"
      ]
     },
     "execution_count": 57,
     "metadata": {},
     "output_type": "execute_result"
    }
   ],
   "source": [
    "function rdot(r)\n",
    "    x, y = r\n",
    "    return [sin(x)^3-sqrt(sin(y)+1); x]\n",
    "end"
   ]
  },
  {
   "cell_type": "code",
   "execution_count": 58,
   "id": "b2eaafa6",
   "metadata": {},
   "outputs": [
    {
     "data": {
      "text/plain": [
       "T (generic function with 1 method)"
      ]
     },
     "execution_count": 58,
     "metadata": {},
     "output_type": "execute_result"
    }
   ],
   "source": [
    "# Obtains the unit tangent vector to the\n",
    "# flow-normal curve at a given point in phase space.\n",
    "# R^n -> R^n.\n",
    "function T(r)\n",
    "    return normalize([0 1; -1 0] * rdot(r))\n",
    "end"
   ]
  },
  {
   "cell_type": "code",
   "execution_count": 74,
   "id": "02e934d8",
   "metadata": {},
   "outputs": [
    {
     "data": {
      "text/plain": [
       "normal_curve (generic function with 3 methods)"
      ]
     },
     "execution_count": 74,
     "metadata": {},
     "output_type": "execute_result"
    }
   ],
   "source": [
    "# Uses Euler's method to numerically estimate points along\n",
    "# the flow-normal curve.\n",
    "function normal_curve(r, n=1000, step=0.01)\n",
    "    trajectory = [r]\n",
    "    for i in 1:n\n",
    "        first_r = first(trajectory)\n",
    "        last_r = last(trajectory)\n",
    "        prepend!(trajectory, [first_r - step * T(first_r)])\n",
    "        push!(trajectory, last_r + step * T(last_r))\n",
    "    end\n",
    "    return trajectory\n",
    "end"
   ]
  },
  {
   "cell_type": "code",
   "execution_count": 78,
   "id": "30c7ab7c",
   "metadata": {},
   "outputs": [
    {
     "data": {
      "text/html": [
       "<div data-jscall-id=\"376\"><script data-jscall-id=\"377\" type=\"text/javascript\">\n",
       "    function register_resize_handler(remote_origin) {\n",
       "        function resize_callback(event) {\n",
       "            if (event.origin !== remote_origin) {\n",
       "                return;\n",
       "            }\n",
       "            const uuid = event.data[0];\n",
       "            const width = event.data[1];\n",
       "            const height = event.data[2];\n",
       "            const iframe = document.getElementById('245127c9-a270-49b8-b810-4108caf26171');\n",
       "            if (iframe) {\n",
       "                iframe.style.width = width + \"px\";\n",
       "                iframe.style.height = height + \"px\";\n",
       "            }\n",
       "        }\n",
       "        if (window.addEventListener) {\n",
       "            window.addEventListener(\"message\", resize_callback, false);\n",
       "        } else if (window.attachEvent) {\n",
       "            window.attachEvent(\"onmessage\", resize_callback);\n",
       "        }\n",
       "    }\n",
       "    register_resize_handler('http://127.0.0.1:9284')\n",
       "\n",
       "</script><iframe scrolling=\"no\" id=\"245127c9-a270-49b8-b810-4108caf26171\" data-jscall-id=\"375\" src=\"http://127.0.0.1:9284/245127c9-a270-49b8-b810-4108caf26171\" style=\"position: relative; display: block; width: 100%; height: 100%; padding: 0; overflow: hidden; border: none\"></iframe></div>\n"
      ]
     },
     "metadata": {},
     "output_type": "display_data"
    }
   ],
   "source": [
    "f = Figure()\n",
    "ax = Axis(f[1, 1])\n",
    "\n",
    "rs = Iterators.product(-10:1:10, -10:1:10) |> collect\n",
    "rdots = map(r -> rdot([r[1]; r[2]]), rs)\n",
    "xs = vec(map(r -> r[1], rs))\n",
    "ys = vec(map(r -> r[2], rs))\n",
    "us = vec(map(rdot -> rdot[1], rdots))\n",
    "vs = vec(map(rdot -> rdot[2], rdots))\n",
    "\n",
    "arrows!(ax, xs, ys, us, vs, lengthscale = 0.1)\n",
    "\n",
    "flow_normal1 = normal_curve([1.; 1.], 100000, 0.0001)\n",
    "xs = [flow_normal1[i][1] for i in 1:length(flow_normal1)]\n",
    "ys = [flow_normal1[i][2] for i in 1:length(flow_normal1)]\n",
    "lines!(ax, xs, ys)\n",
    "flow_normal2 = normal_curve([0.; 0.], 100000, 0.0001)\n",
    "xs = [flow_normal2[i][1] for i in 1:length(flow_normal2)]\n",
    "ys = [flow_normal2[i][2] for i in 1:length(flow_normal2)]\n",
    "lines!(ax, xs, ys)\n",
    "flow_normal3 = normal_curve([-2.; 0.], 100000, 0.0001)\n",
    "xs = [flow_normal3[i][1] for i in 1:length(flow_normal3)]\n",
    "ys = [flow_normal3[i][2] for i in 1:length(flow_normal3)]\n",
    "lines!(ax, xs, ys)\n",
    "\n",
    "display(f)"
   ]
  },
  {
   "cell_type": "code",
   "execution_count": null,
   "id": "2f8cb243",
   "metadata": {},
   "outputs": [],
   "source": []
  },
  {
   "cell_type": "code",
   "execution_count": null,
   "id": "55959931",
   "metadata": {},
   "outputs": [],
   "source": []
  }
 ],
 "metadata": {
  "kernelspec": {
   "display_name": "Julia 1.7.3",
   "language": "julia",
   "name": "julia-1.7"
  },
  "language_info": {
   "file_extension": ".jl",
   "mimetype": "application/julia",
   "name": "julia",
   "version": "1.7.3"
  }
 },
 "nbformat": 4,
 "nbformat_minor": 5
}
